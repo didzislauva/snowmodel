{
 "cells": [
  {
   "cell_type": "code",
   "execution_count": 4,
   "id": "05ef9797",
   "metadata": {},
   "outputs": [],
   "source": [
    "import pandas as pd"
   ]
  },
  {
   "cell_type": "code",
   "execution_count": 5,
   "id": "c906552d",
   "metadata": {},
   "outputs": [
    {
     "data": {
      "text/html": [
       "<div>\n",
       "<style scoped>\n",
       "    .dataframe tbody tr th:only-of-type {\n",
       "        vertical-align: middle;\n",
       "    }\n",
       "\n",
       "    .dataframe tbody tr th {\n",
       "        vertical-align: top;\n",
       "    }\n",
       "\n",
       "    .dataframe thead th {\n",
       "        text-align: right;\n",
       "    }\n",
       "</style>\n",
       "<table border=\"1\" class=\"dataframe\">\n",
       "  <thead>\n",
       "    <tr style=\"text-align: right;\">\n",
       "      <th></th>\n",
       "      <th>vidējais sniega segas biezums, cm</th>\n",
       "      <th>summa</th>\n",
       "      <th>dienas vidējā temperatūra, C</th>\n",
       "      <th>vidējais relatīvais mitrums</th>\n",
       "    </tr>\n",
       "    <tr>\n",
       "      <th>Datums \\ Laiks</th>\n",
       "      <th></th>\n",
       "      <th></th>\n",
       "      <th></th>\n",
       "      <th></th>\n",
       "    </tr>\n",
       "  </thead>\n",
       "  <tbody>\n",
       "    <tr>\n",
       "      <th>2017-01-01</th>\n",
       "      <td>0.000000</td>\n",
       "      <td>0.2</td>\n",
       "      <td>6.016667</td>\n",
       "      <td>94.000000</td>\n",
       "    </tr>\n",
       "    <tr>\n",
       "      <th>2017-01-02</th>\n",
       "      <td>0.166667</td>\n",
       "      <td>0.8</td>\n",
       "      <td>0.800000</td>\n",
       "      <td>95.500000</td>\n",
       "    </tr>\n",
       "    <tr>\n",
       "      <th>2017-01-03</th>\n",
       "      <td>0.291667</td>\n",
       "      <td>0.0</td>\n",
       "      <td>-2.641667</td>\n",
       "      <td>89.583333</td>\n",
       "    </tr>\n",
       "    <tr>\n",
       "      <th>2017-01-04</th>\n",
       "      <td>6.750000</td>\n",
       "      <td>4.0</td>\n",
       "      <td>-4.291667</td>\n",
       "      <td>88.958333</td>\n",
       "    </tr>\n",
       "    <tr>\n",
       "      <th>2017-01-05</th>\n",
       "      <td>7.375000</td>\n",
       "      <td>0.2</td>\n",
       "      <td>-13.229167</td>\n",
       "      <td>68.000000</td>\n",
       "    </tr>\n",
       "    <tr>\n",
       "      <th>...</th>\n",
       "      <td>...</td>\n",
       "      <td>...</td>\n",
       "      <td>...</td>\n",
       "      <td>...</td>\n",
       "    </tr>\n",
       "    <tr>\n",
       "      <th>2021-12-27</th>\n",
       "      <td>10.000000</td>\n",
       "      <td>0.0</td>\n",
       "      <td>-3.950000</td>\n",
       "      <td>89.083333</td>\n",
       "    </tr>\n",
       "    <tr>\n",
       "      <th>2021-12-28</th>\n",
       "      <td>9.125000</td>\n",
       "      <td>0.0</td>\n",
       "      <td>-8.379167</td>\n",
       "      <td>90.000000</td>\n",
       "    </tr>\n",
       "    <tr>\n",
       "      <th>2021-12-29</th>\n",
       "      <td>9.000000</td>\n",
       "      <td>0.0</td>\n",
       "      <td>-7.241667</td>\n",
       "      <td>72.000000</td>\n",
       "    </tr>\n",
       "    <tr>\n",
       "      <th>2021-12-30</th>\n",
       "      <td>9.125000</td>\n",
       "      <td>0.5</td>\n",
       "      <td>-4.600000</td>\n",
       "      <td>88.375000</td>\n",
       "    </tr>\n",
       "    <tr>\n",
       "      <th>2021-12-31</th>\n",
       "      <td>6.500000</td>\n",
       "      <td>1.7</td>\n",
       "      <td>1.554167</td>\n",
       "      <td>99.708333</td>\n",
       "    </tr>\n",
       "  </tbody>\n",
       "</table>\n",
       "<p>1826 rows × 4 columns</p>\n",
       "</div>"
      ],
      "text/plain": [
       "                vidējais sniega segas biezums, cm  summa  \\\n",
       "Datums \\ Laiks                                             \n",
       "2017-01-01                               0.000000    0.2   \n",
       "2017-01-02                               0.166667    0.8   \n",
       "2017-01-03                               0.291667    0.0   \n",
       "2017-01-04                               6.750000    4.0   \n",
       "2017-01-05                               7.375000    0.2   \n",
       "...                                           ...    ...   \n",
       "2021-12-27                              10.000000    0.0   \n",
       "2021-12-28                               9.125000    0.0   \n",
       "2021-12-29                               9.000000    0.0   \n",
       "2021-12-30                               9.125000    0.5   \n",
       "2021-12-31                               6.500000    1.7   \n",
       "\n",
       "                dienas vidējā temperatūra, C  vidējais relatīvais mitrums  \n",
       "Datums \\ Laiks                                                             \n",
       "2017-01-01                          6.016667                    94.000000  \n",
       "2017-01-02                          0.800000                    95.500000  \n",
       "2017-01-03                         -2.641667                    89.583333  \n",
       "2017-01-04                         -4.291667                    88.958333  \n",
       "2017-01-05                        -13.229167                    68.000000  \n",
       "...                                      ...                          ...  \n",
       "2021-12-27                         -3.950000                    89.083333  \n",
       "2021-12-28                         -8.379167                    90.000000  \n",
       "2021-12-29                         -7.241667                    72.000000  \n",
       "2021-12-30                         -4.600000                    88.375000  \n",
       "2021-12-31                          1.554167                    99.708333  \n",
       "\n",
       "[1826 rows x 4 columns]"
      ]
     },
     "execution_count": 5,
     "metadata": {},
     "output_type": "execute_result"
    }
   ],
   "source": [
    "fname=\"Jelgava_2017-2021_t_p_def.xls\"\n",
    "df=pd.read_excel(fname,parse_dates=[\"Datums \\ Laiks\"],index_col=0)\n",
    "df=df.reindex(columns=[\"vidējais sniega segas biezums, cm\",\"summa\",\"dienas vidējā temperatūra, C\",\"vidējais relatīvais mitrums\"])\n",
    "df"
   ]
  },
  {
   "cell_type": "code",
   "execution_count": 6,
   "id": "ac12f562",
   "metadata": {},
   "outputs": [],
   "source": [
    "window_size=12\n",
    "for i in range(1, window_size):\n",
    "    df[f'summa_{i}'] = df['summa'].shift(i)\n",
    "    df[f'dvt_{i}'] = df['dienas vidējā temperatūra, C'].shift(i)\n",
    "    df[f'vrm_{i}'] = df['vidējais relatīvais mitrums'].shift(i)\n",
    "    \n",
    "df=df.dropna()\n"
   ]
  },
  {
   "cell_type": "code",
   "execution_count": 12,
   "id": "1bba48db",
   "metadata": {},
   "outputs": [],
   "source": [
    "X = df.iloc[:, 1:].values\n",
    "y = df.iloc[:, 0].values\n"
   ]
  },
  {
   "cell_type": "code",
   "execution_count": 15,
   "id": "7361ab3c",
   "metadata": {},
   "outputs": [],
   "source": [
    "X_train, X_test, y_train, y_test = train_test_split(X, y, test_size=0.2)"
   ]
  },
  {
   "cell_type": "code",
   "execution_count": 3,
   "id": "526c8523",
   "metadata": {},
   "outputs": [],
   "source": [
    "from sklearn.model_selection import train_test_split"
   ]
  },
  {
   "cell_type": "code",
   "execution_count": 1,
   "id": "f8d3aec7",
   "metadata": {},
   "outputs": [],
   "source": [
    "from keras.models import Sequential\n",
    "from keras.layers import Dense\n"
   ]
  },
  {
   "cell_type": "code",
   "execution_count": 16,
   "id": "2a4f4489",
   "metadata": {},
   "outputs": [],
   "source": [
    "# Create a sequential model\n",
    "model = Sequential()\n",
    "\n",
    "# Add layers to the model\n",
    "model.add(Dense(64, activation='relu', input_shape=(X_train.shape[1],)))\n",
    "model.add(Dense(32, activation='relu'))\n",
    "model.add(Dense(1))\n",
    "\n",
    "# Compile the model\n",
    "model.compile(optimizer='adam', loss='mean_squared_error', metrics=['accuracy'])"
   ]
  },
  {
   "cell_type": "code",
   "execution_count": 17,
   "id": "fa3c36d8",
   "metadata": {},
   "outputs": [
    {
     "name": "stdout",
     "output_type": "stream",
     "text": [
      "Epoch 1/100\n",
      "46/46 [==============================] - 1s 4ms/step - loss: 19.6990 - accuracy: 0.4473\n",
      "Epoch 2/100\n",
      "46/46 [==============================] - 0s 4ms/step - loss: 4.8170 - accuracy: 0.5348\n",
      "Epoch 3/100\n",
      "46/46 [==============================] - 0s 4ms/step - loss: 4.1320 - accuracy: 0.5286\n",
      "Epoch 4/100\n",
      "46/46 [==============================] - 0s 4ms/step - loss: 3.4184 - accuracy: 0.5520\n",
      "Epoch 5/100\n",
      "46/46 [==============================] - 0s 4ms/step - loss: 3.0894 - accuracy: 0.5700\n",
      "Epoch 6/100\n",
      "46/46 [==============================] - 0s 4ms/step - loss: 2.9309 - accuracy: 0.5865\n",
      "Epoch 7/100\n",
      "46/46 [==============================] - 0s 5ms/step - loss: 2.5686 - accuracy: 0.6079\n",
      "Epoch 8/100\n",
      "46/46 [==============================] - 0s 4ms/step - loss: 2.3665 - accuracy: 0.6409\n",
      "Epoch 9/100\n",
      "46/46 [==============================] - 0s 3ms/step - loss: 2.6338 - accuracy: 0.6044\n",
      "Epoch 10/100\n",
      "46/46 [==============================] - 0s 4ms/step - loss: 2.2747 - accuracy: 0.6589\n",
      "Epoch 11/100\n",
      "46/46 [==============================] - 0s 4ms/step - loss: 2.2050 - accuracy: 0.6527\n",
      "Epoch 12/100\n",
      "46/46 [==============================] - 0s 4ms/step - loss: 2.1869 - accuracy: 0.6609\n",
      "Epoch 13/100\n",
      "46/46 [==============================] - 0s 4ms/step - loss: 2.1058 - accuracy: 0.6630\n",
      "Epoch 14/100\n",
      "46/46 [==============================] - 0s 4ms/step - loss: 2.1141 - accuracy: 0.6340\n",
      "Epoch 15/100\n",
      "46/46 [==============================] - 0s 4ms/step - loss: 2.2384 - accuracy: 0.6161\n",
      "Epoch 16/100\n",
      "46/46 [==============================] - 0s 4ms/step - loss: 2.0982 - accuracy: 0.6361\n",
      "Epoch 17/100\n",
      "46/46 [==============================] - 0s 4ms/step - loss: 2.3495 - accuracy: 0.6430\n",
      "Epoch 18/100\n",
      "46/46 [==============================] - 0s 5ms/step - loss: 1.9932 - accuracy: 0.6575\n",
      "Epoch 19/100\n",
      "46/46 [==============================] - 0s 4ms/step - loss: 1.9641 - accuracy: 0.6547\n",
      "Epoch 20/100\n",
      "46/46 [==============================] - 0s 4ms/step - loss: 1.8531 - accuracy: 0.6802\n",
      "Epoch 21/100\n",
      "46/46 [==============================] - 0s 4ms/step - loss: 2.0094 - accuracy: 0.6554\n",
      "Epoch 22/100\n",
      "46/46 [==============================] - 0s 4ms/step - loss: 2.0128 - accuracy: 0.6389\n",
      "Epoch 23/100\n",
      "46/46 [==============================] - 0s 4ms/step - loss: 1.9410 - accuracy: 0.6334\n",
      "Epoch 24/100\n",
      "46/46 [==============================] - 0s 4ms/step - loss: 1.8678 - accuracy: 0.6609\n",
      "Epoch 25/100\n",
      "46/46 [==============================] - 0s 5ms/step - loss: 1.8734 - accuracy: 0.6340\n",
      "Epoch 26/100\n",
      "46/46 [==============================] - 0s 4ms/step - loss: 1.7458 - accuracy: 0.6747\n",
      "Epoch 27/100\n",
      "46/46 [==============================] - 0s 3ms/step - loss: 1.7996 - accuracy: 0.6492\n",
      "Epoch 28/100\n",
      "46/46 [==============================] - 0s 4ms/step - loss: 1.6229 - accuracy: 0.7278\n",
      "Epoch 29/100\n",
      "46/46 [==============================] - 0s 4ms/step - loss: 2.0702 - accuracy: 0.6396\n",
      "Epoch 30/100\n",
      "46/46 [==============================] - 0s 4ms/step - loss: 1.5810 - accuracy: 0.7671\n",
      "Epoch 31/100\n",
      "46/46 [==============================] - 0s 4ms/step - loss: 1.7525 - accuracy: 0.6616\n",
      "Epoch 32/100\n",
      "46/46 [==============================] - 0s 4ms/step - loss: 1.7851 - accuracy: 0.6520\n",
      "Epoch 33/100\n",
      "46/46 [==============================] - 0s 5ms/step - loss: 1.5845 - accuracy: 0.7181\n",
      "Epoch 34/100\n",
      "46/46 [==============================] - 0s 4ms/step - loss: 1.6748 - accuracy: 0.6830\n",
      "Epoch 35/100\n",
      "46/46 [==============================] - 0s 4ms/step - loss: 1.6502 - accuracy: 0.6961\n",
      "Epoch 36/100\n",
      "46/46 [==============================] - 0s 3ms/step - loss: 1.5869 - accuracy: 0.6754\n",
      "Epoch 37/100\n",
      "46/46 [==============================] - 0s 4ms/step - loss: 1.4544 - accuracy: 0.7257\n",
      "Epoch 38/100\n",
      "46/46 [==============================] - 0s 4ms/step - loss: 1.6221 - accuracy: 0.6375\n",
      "Epoch 39/100\n",
      "46/46 [==============================] - 0s 4ms/step - loss: 1.5493 - accuracy: 0.7085\n",
      "Epoch 40/100\n",
      "46/46 [==============================] - 0s 5ms/step - loss: 1.4292 - accuracy: 0.7154\n",
      "Epoch 41/100\n",
      "46/46 [==============================] - 0s 4ms/step - loss: 1.6483 - accuracy: 0.6547\n",
      "Epoch 42/100\n",
      "46/46 [==============================] - 0s 4ms/step - loss: 1.3922 - accuracy: 0.7629\n",
      "Epoch 43/100\n",
      "46/46 [==============================] - 0s 4ms/step - loss: 1.4325 - accuracy: 0.7360\n",
      "Epoch 44/100\n",
      "46/46 [==============================] - 0s 4ms/step - loss: 1.6461 - accuracy: 0.6471\n",
      "Epoch 45/100\n",
      "46/46 [==============================] - 0s 4ms/step - loss: 1.6051 - accuracy: 0.6396\n",
      "Epoch 46/100\n",
      "46/46 [==============================] - 0s 4ms/step - loss: 1.4459 - accuracy: 0.6782\n",
      "Epoch 47/100\n",
      "46/46 [==============================] - 0s 4ms/step - loss: 1.3697 - accuracy: 0.7360\n",
      "Epoch 48/100\n",
      "46/46 [==============================] - 0s 5ms/step - loss: 1.4513 - accuracy: 0.7050\n",
      "Epoch 49/100\n",
      "46/46 [==============================] - 0s 4ms/step - loss: 1.3086 - accuracy: 0.7388\n",
      "Epoch 50/100\n",
      "46/46 [==============================] - 0s 3ms/step - loss: 1.5062 - accuracy: 0.6409\n",
      "Epoch 51/100\n",
      "46/46 [==============================] - 0s 4ms/step - loss: 1.5538 - accuracy: 0.6251\n",
      "Epoch 52/100\n",
      "46/46 [==============================] - 0s 4ms/step - loss: 1.7335 - accuracy: 0.5968\n",
      "Epoch 53/100\n",
      "46/46 [==============================] - 0s 6ms/step - loss: 1.5896 - accuracy: 0.6092\n",
      "Epoch 54/100\n",
      "46/46 [==============================] - 0s 4ms/step - loss: 1.2533 - accuracy: 0.7808\n",
      "Epoch 55/100\n",
      "46/46 [==============================] - 0s 4ms/step - loss: 1.2902 - accuracy: 0.7388\n",
      "Epoch 56/100\n",
      "46/46 [==============================] - 0s 5ms/step - loss: 1.4519 - accuracy: 0.6816\n",
      "Epoch 57/100\n",
      "46/46 [==============================] - 0s 5ms/step - loss: 1.6978 - accuracy: 0.6409\n",
      "Epoch 58/100\n",
      "46/46 [==============================] - 0s 5ms/step - loss: 1.4798 - accuracy: 0.6451\n",
      "Epoch 59/100\n",
      "46/46 [==============================] - 0s 5ms/step - loss: 1.3587 - accuracy: 0.7071\n",
      "Epoch 60/100\n",
      "46/46 [==============================] - 0s 5ms/step - loss: 1.2208 - accuracy: 0.7360\n",
      "Epoch 61/100\n",
      "46/46 [==============================] - 0s 5ms/step - loss: 1.1748 - accuracy: 0.7719\n",
      "Epoch 62/100\n",
      "46/46 [==============================] - 0s 5ms/step - loss: 1.2516 - accuracy: 0.7422\n",
      "Epoch 63/100\n",
      "46/46 [==============================] - 0s 4ms/step - loss: 1.3098 - accuracy: 0.7464\n",
      "Epoch 64/100\n",
      "46/46 [==============================] - 0s 4ms/step - loss: 1.3439 - accuracy: 0.7622\n",
      "Epoch 65/100\n",
      "46/46 [==============================] - 0s 4ms/step - loss: 1.4261 - accuracy: 0.6975\n",
      "Epoch 66/100\n",
      "46/46 [==============================] - 0s 4ms/step - loss: 1.2876 - accuracy: 0.7002\n",
      "Epoch 67/100\n",
      "46/46 [==============================] - 0s 4ms/step - loss: 1.7080 - accuracy: 0.6354\n",
      "Epoch 68/100\n",
      "46/46 [==============================] - 0s 4ms/step - loss: 1.5632 - accuracy: 0.6465\n",
      "Epoch 69/100\n",
      "46/46 [==============================] - 0s 4ms/step - loss: 1.2300 - accuracy: 0.7209\n",
      "Epoch 70/100\n",
      "46/46 [==============================] - 0s 4ms/step - loss: 1.2918 - accuracy: 0.7023\n",
      "Epoch 71/100\n",
      "46/46 [==============================] - 0s 4ms/step - loss: 1.3420 - accuracy: 0.7030\n",
      "Epoch 72/100\n",
      "46/46 [==============================] - 0s 3ms/step - loss: 1.2774 - accuracy: 0.6740\n",
      "Epoch 73/100\n",
      "46/46 [==============================] - 0s 4ms/step - loss: 1.2326 - accuracy: 0.7305\n",
      "Epoch 74/100\n",
      "46/46 [==============================] - 0s 4ms/step - loss: 1.1862 - accuracy: 0.7443\n",
      "Epoch 75/100\n",
      "46/46 [==============================] - 0s 4ms/step - loss: 1.1913 - accuracy: 0.7484\n",
      "Epoch 76/100\n",
      "46/46 [==============================] - 0s 4ms/step - loss: 1.4833 - accuracy: 0.6699\n",
      "Epoch 77/100\n",
      "46/46 [==============================] - 0s 3ms/step - loss: 1.2310 - accuracy: 0.6981\n",
      "Epoch 78/100\n",
      "46/46 [==============================] - 0s 4ms/step - loss: 1.6973 - accuracy: 0.6258\n",
      "Epoch 79/100\n",
      "46/46 [==============================] - 0s 4ms/step - loss: 1.4371 - accuracy: 0.6189\n",
      "Epoch 80/100\n",
      "46/46 [==============================] - 0s 4ms/step - loss: 1.2465 - accuracy: 0.7629\n",
      "Epoch 81/100\n",
      "46/46 [==============================] - 0s 4ms/step - loss: 1.2257 - accuracy: 0.7099\n",
      "Epoch 82/100\n",
      "46/46 [==============================] - 0s 4ms/step - loss: 1.3467 - accuracy: 0.7064\n",
      "Epoch 83/100\n"
     ]
    },
    {
     "name": "stdout",
     "output_type": "stream",
     "text": [
      "46/46 [==============================] - 0s 3ms/step - loss: 1.0429 - accuracy: 0.7581\n",
      "Epoch 84/100\n",
      "46/46 [==============================] - 0s 4ms/step - loss: 1.0976 - accuracy: 0.7857\n",
      "Epoch 85/100\n",
      "46/46 [==============================] - 0s 3ms/step - loss: 1.1667 - accuracy: 0.7574\n",
      "Epoch 86/100\n",
      "46/46 [==============================] - 0s 3ms/step - loss: 1.0718 - accuracy: 0.7484\n",
      "Epoch 87/100\n",
      "46/46 [==============================] - 0s 4ms/step - loss: 1.0807 - accuracy: 0.7684\n",
      "Epoch 88/100\n",
      "46/46 [==============================] - 0s 4ms/step - loss: 1.1974 - accuracy: 0.7133\n",
      "Epoch 89/100\n",
      "46/46 [==============================] - 0s 4ms/step - loss: 1.1056 - accuracy: 0.7553\n",
      "Epoch 90/100\n",
      "46/46 [==============================] - 0s 3ms/step - loss: 1.0723 - accuracy: 0.7726\n",
      "Epoch 91/100\n",
      "46/46 [==============================] - 0s 4ms/step - loss: 1.1301 - accuracy: 0.7436\n",
      "Epoch 92/100\n",
      "46/46 [==============================] - 0s 4ms/step - loss: 1.1263 - accuracy: 0.7264\n",
      "Epoch 93/100\n",
      "46/46 [==============================] - 0s 4ms/step - loss: 1.0468 - accuracy: 0.7292\n",
      "Epoch 94/100\n",
      "46/46 [==============================] - 0s 4ms/step - loss: 1.0344 - accuracy: 0.7808\n",
      "Epoch 95/100\n",
      "46/46 [==============================] - 0s 4ms/step - loss: 0.9238 - accuracy: 0.8057\n",
      "Epoch 96/100\n",
      "46/46 [==============================] - 0s 4ms/step - loss: 0.9321 - accuracy: 0.8036\n",
      "Epoch 97/100\n",
      "46/46 [==============================] - 0s 4ms/step - loss: 1.1276 - accuracy: 0.6864\n",
      "Epoch 98/100\n",
      "46/46 [==============================] - 0s 4ms/step - loss: 1.0759 - accuracy: 0.7739\n",
      "Epoch 99/100\n",
      "46/46 [==============================] - 0s 4ms/step - loss: 0.9492 - accuracy: 0.7691\n",
      "Epoch 100/100\n",
      "46/46 [==============================] - 0s 4ms/step - loss: 0.9734 - accuracy: 0.8036\n"
     ]
    },
    {
     "data": {
      "text/plain": [
       "<keras.callbacks.History at 0x2127f5f1270>"
      ]
     },
     "execution_count": 17,
     "metadata": {},
     "output_type": "execute_result"
    }
   ],
   "source": [
    "model.fit(X_train, y_train, epochs=100, batch_size=32)"
   ]
  },
  {
   "cell_type": "code",
   "execution_count": 19,
   "id": "ccd82dc3",
   "metadata": {},
   "outputs": [
    {
     "name": "stdout",
     "output_type": "stream",
     "text": [
      "12/12 [==============================] - 0s 4ms/step - loss: 2.0392 - accuracy: 0.6777\n"
     ]
    }
   ],
   "source": [
    "test_loss = model.evaluate(X_test, y_test)"
   ]
  },
  {
   "cell_type": "code",
   "execution_count": 20,
   "id": "073d2961",
   "metadata": {},
   "outputs": [],
   "source": [
    "import matplotlib.pyplot as plt"
   ]
  },
  {
   "cell_type": "code",
   "execution_count": 21,
   "id": "8d2897aa",
   "metadata": {},
   "outputs": [
    {
     "name": "stdout",
     "output_type": "stream",
     "text": [
      "12/12 [==============================] - 0s 3ms/step\n"
     ]
    }
   ],
   "source": [
    "y_pred = model.predict(X_test)"
   ]
  },
  {
   "cell_type": "code",
   "execution_count": 22,
   "id": "c59890e5",
   "metadata": {},
   "outputs": [
    {
     "data": {
      "image/png": "[encoded data removed]",
      "text/plain": [
       "<Figure size 640x480 with 1 Axes>"
      ]
     },
     "metadata": {},
     "output_type": "display_data"
    }
   ],
   "source": [
    "plt.scatter(y_test, y_pred)\n",
    "plt.xlabel(\"True Values\")\n",
    "plt.ylabel(\"Predictions\")\n",
    "plt.show()"
   ]
  },
  {
   "cell_type": "code",
   "execution_count": 24,
   "id": "80f5e8f2",
   "metadata": {},
   "outputs": [
    {
     "name": "stdout",
     "output_type": "stream",
     "text": [
      "57/57 [==============================] - 0s 3ms/step\n"
     ]
    }
   ],
   "source": [
    "y_pred = model.predict(X)"
   ]
  },
  {
   "cell_type": "code",
   "execution_count": 25,
   "id": "70d00a34",
   "metadata": {},
   "outputs": [
    {
     "name": "stderr",
     "output_type": "stream",
     "text": [
      "C:\\Users\\didzis\\AppData\\Local\\Temp\\ipykernel_1608\\4223927865.py:1: SettingWithCopyWarning: \n",
      "A value is trying to be set on a copy of a slice from a DataFrame.\n",
      "Try using .loc[row_indexer,col_indexer] = value instead\n",
      "\n",
      "See the caveats in the documentation: https://pandas.pydata.org/pandas-docs/stable/user_guide/indexing.html#returning-a-view-versus-a-copy\n",
      "  df[\"snowcover_predicted\"]=y_pred\n"
     ]
    }
   ],
   "source": [
    "df[\"snowcover_predicted\"]=y_pred"
   ]
  },
  {
   "cell_type": "code",
   "execution_count": 27,
   "id": "b73e71dd",
   "metadata": {},
   "outputs": [
    {
     "name": "stderr",
     "output_type": "stream",
     "text": [
      "C:\\Users\\didzis\\AppData\\Local\\Temp\\ipykernel_1608\\4291089447.py:1: FutureWarning: Indexing a DataFrame with a datetimelike index using a single string to slice the rows, like `frame[string]`, is deprecated and will be removed in a future version. Use `frame.loc[string]` instead.\n",
      "  plt.plot(df[[\"vidējais sniega segas biezums, cm\",\"snowcover_predicted\"]][\"2017\"])\n"
     ]
    },
    {
     "data": {
      "text/plain": [
       "[<matplotlib.lines.Line2D at 0x21205a09240>,\n",
       " <matplotlib.lines.Line2D at 0x21205a21870>]"
      ]
     },
     "execution_count": 27,
     "metadata": {},
     "output_type": "execute_result"
    },
    {
     "data": {
      "image/png": "[encoded data removed]",
      "text/plain": [
       "<Figure size 640x480 with 1 Axes>"
      ]
     },
     "metadata": {},
     "output_type": "display_data"
    }
   ],
   "source": [
    "plt.plot(df[[\"vidējais sniega segas biezums, cm\",\"snowcover_predicted\"]][\"2017\"])"
   ]
  },
  {
   "cell_type": "code",
   "execution_count": null,
   "id": "32fb91eb",
   "metadata": {},
   "outputs": [],
   "source": []
  }
 ],
 "metadata": {
  "kernelspec": {
   "display_name": "Python 3 (ipykernel)",
   "language": "python",
   "name": "python3"
  },
  "language_info": {
   "codemirror_mode": {
    "name": "ipython",
    "version": 3
   },
   "file_extension": ".py",
   "mimetype": "text/x-python",
   "name": "python",
   "nbconvert_exporter": "python",
   "pygments_lexer": "ipython3",
   "version": "3.10.9"
  }
 },
 "nbformat": 4,
 "nbformat_minor": 5
}
