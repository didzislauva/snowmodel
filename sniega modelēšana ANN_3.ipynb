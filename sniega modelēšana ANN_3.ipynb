{
 "cells": [
  {
   "cell_type": "code",
   "execution_count": 8,
   "id": "05ef9797",
   "metadata": {},
   "outputs": [],
   "source": [
    "import pandas as pd\n",
    "from sklearn.model_selection import train_test_split\n",
    "from keras.models import Sequential\n",
    "from keras.layers import Dense\n",
    "import matplotlib.pyplot as plt"
   ]
  },
  {
   "cell_type": "code",
   "execution_count": 2,
   "id": "c906552d",
   "metadata": {},
   "outputs": [
    {
     "data": {
      "text/html": [
       "<div>\n",
       "<style scoped>\n",
       "    .dataframe tbody tr th:only-of-type {\n",
       "        vertical-align: middle;\n",
       "    }\n",
       "\n",
       "    .dataframe tbody tr th {\n",
       "        vertical-align: top;\n",
       "    }\n",
       "\n",
       "    .dataframe thead th {\n",
       "        text-align: right;\n",
       "    }\n",
       "</style>\n",
       "<table border=\"1\" class=\"dataframe\">\n",
       "  <thead>\n",
       "    <tr style=\"text-align: right;\">\n",
       "      <th></th>\n",
       "      <th>vidējais sniega segas biezums, cm</th>\n",
       "      <th>summa</th>\n",
       "      <th>dienas vidējā temperatūra, C</th>\n",
       "      <th>vidējais relatīvais mitrums</th>\n",
       "    </tr>\n",
       "    <tr>\n",
       "      <th>Datums \\ Laiks</th>\n",
       "      <th></th>\n",
       "      <th></th>\n",
       "      <th></th>\n",
       "      <th></th>\n",
       "    </tr>\n",
       "  </thead>\n",
       "  <tbody>\n",
       "    <tr>\n",
       "      <th>2017-01-01</th>\n",
       "      <td>0.000000</td>\n",
       "      <td>0.2</td>\n",
       "      <td>6.016667</td>\n",
       "      <td>94.000000</td>\n",
       "    </tr>\n",
       "    <tr>\n",
       "      <th>2017-01-02</th>\n",
       "      <td>0.166667</td>\n",
       "      <td>0.8</td>\n",
       "      <td>0.800000</td>\n",
       "      <td>95.500000</td>\n",
       "    </tr>\n",
       "    <tr>\n",
       "      <th>2017-01-03</th>\n",
       "      <td>0.291667</td>\n",
       "      <td>0.0</td>\n",
       "      <td>-2.641667</td>\n",
       "      <td>89.583333</td>\n",
       "    </tr>\n",
       "    <tr>\n",
       "      <th>2017-01-04</th>\n",
       "      <td>6.750000</td>\n",
       "      <td>4.0</td>\n",
       "      <td>-4.291667</td>\n",
       "      <td>88.958333</td>\n",
       "    </tr>\n",
       "    <tr>\n",
       "      <th>2017-01-05</th>\n",
       "      <td>7.375000</td>\n",
       "      <td>0.2</td>\n",
       "      <td>-13.229167</td>\n",
       "      <td>68.000000</td>\n",
       "    </tr>\n",
       "    <tr>\n",
       "      <th>...</th>\n",
       "      <td>...</td>\n",
       "      <td>...</td>\n",
       "      <td>...</td>\n",
       "      <td>...</td>\n",
       "    </tr>\n",
       "    <tr>\n",
       "      <th>2021-12-27</th>\n",
       "      <td>10.000000</td>\n",
       "      <td>0.0</td>\n",
       "      <td>-3.950000</td>\n",
       "      <td>89.083333</td>\n",
       "    </tr>\n",
       "    <tr>\n",
       "      <th>2021-12-28</th>\n",
       "      <td>9.125000</td>\n",
       "      <td>0.0</td>\n",
       "      <td>-8.379167</td>\n",
       "      <td>90.000000</td>\n",
       "    </tr>\n",
       "    <tr>\n",
       "      <th>2021-12-29</th>\n",
       "      <td>9.000000</td>\n",
       "      <td>0.0</td>\n",
       "      <td>-7.241667</td>\n",
       "      <td>72.000000</td>\n",
       "    </tr>\n",
       "    <tr>\n",
       "      <th>2021-12-30</th>\n",
       "      <td>9.125000</td>\n",
       "      <td>0.5</td>\n",
       "      <td>-4.600000</td>\n",
       "      <td>88.375000</td>\n",
       "    </tr>\n",
       "    <tr>\n",
       "      <th>2021-12-31</th>\n",
       "      <td>6.500000</td>\n",
       "      <td>1.7</td>\n",
       "      <td>1.554167</td>\n",
       "      <td>99.708333</td>\n",
       "    </tr>\n",
       "  </tbody>\n",
       "</table>\n",
       "<p>1826 rows × 4 columns</p>\n",
       "</div>"
      ],
      "text/plain": [
       "                vidējais sniega segas biezums, cm  summa  \\\n",
       "Datums \\ Laiks                                             \n",
       "2017-01-01                               0.000000    0.2   \n",
       "2017-01-02                               0.166667    0.8   \n",
       "2017-01-03                               0.291667    0.0   \n",
       "2017-01-04                               6.750000    4.0   \n",
       "2017-01-05                               7.375000    0.2   \n",
       "...                                           ...    ...   \n",
       "2021-12-27                              10.000000    0.0   \n",
       "2021-12-28                               9.125000    0.0   \n",
       "2021-12-29                               9.000000    0.0   \n",
       "2021-12-30                               9.125000    0.5   \n",
       "2021-12-31                               6.500000    1.7   \n",
       "\n",
       "                dienas vidējā temperatūra, C  vidējais relatīvais mitrums  \n",
       "Datums \\ Laiks                                                             \n",
       "2017-01-01                          6.016667                    94.000000  \n",
       "2017-01-02                          0.800000                    95.500000  \n",
       "2017-01-03                         -2.641667                    89.583333  \n",
       "2017-01-04                         -4.291667                    88.958333  \n",
       "2017-01-05                        -13.229167                    68.000000  \n",
       "...                                      ...                          ...  \n",
       "2021-12-27                         -3.950000                    89.083333  \n",
       "2021-12-28                         -8.379167                    90.000000  \n",
       "2021-12-29                         -7.241667                    72.000000  \n",
       "2021-12-30                         -4.600000                    88.375000  \n",
       "2021-12-31                          1.554167                    99.708333  \n",
       "\n",
       "[1826 rows x 4 columns]"
      ]
     },
     "execution_count": 2,
     "metadata": {},
     "output_type": "execute_result"
    }
   ],
   "source": [
    "fname=\"Jelgava_2017-2021_t_p_def.xls\"\n",
    "df=pd.read_excel(fname,parse_dates=[\"Datums \\ Laiks\"],index_col=0)\n",
    "df=df.reindex(columns=[\"vidējais sniega segas biezums, cm\",\"summa\",\"dienas vidējā temperatūra, C\",\"vidējais relatīvais mitrums\"])\n",
    "df"
   ]
  },
  {
   "cell_type": "code",
   "execution_count": 3,
   "id": "ac12f562",
   "metadata": {},
   "outputs": [],
   "source": [
    "window_size=12\n",
    "for i in range(1, window_size):\n",
    "    df[f'summa_{i}'] = df['summa'].shift(i)\n",
    "    df[f'dvt_{i}'] = df['dienas vidējā temperatūra, C'].shift(i)\n",
    "    df[f'vrm_{i}'] = df['vidējais relatīvais mitrums'].shift(i)\n",
    "    \n",
    "df=df.dropna()\n"
   ]
  },
  {
   "cell_type": "code",
   "execution_count": 4,
   "id": "1bba48db",
   "metadata": {},
   "outputs": [],
   "source": [
    "X = df.iloc[:, 1:].values\n",
    "y = df.iloc[:, 0].values\n"
   ]
  },
  {
   "cell_type": "code",
   "execution_count": 7,
   "id": "7361ab3c",
   "metadata": {},
   "outputs": [],
   "source": [
    "X_train, X_test, y_train, y_test = train_test_split(X, y, test_size=0.2)"
   ]
  },
  {
   "cell_type": "code",
   "execution_count": 9,
   "id": "2a4f4489",
   "metadata": {},
   "outputs": [],
   "source": [
    "# Create a sequential model\n",
    "model = Sequential()\n",
    "\n",
    "# Add layers to the model\n",
    "model.add(Dense(64, activation='relu', input_shape=(X_train.shape[1],)))\n",
    "model.add(Dense(32, activation='relu'))\n",
    "model.add(Dense(1))\n",
    "\n",
    "# Compile the model\n",
    "model.compile(optimizer='adam', loss='mean_squared_error', metrics=['accuracy'])"
   ]
  },
  {
   "cell_type": "code",
   "execution_count": 10,
   "id": "fa3c36d8",
   "metadata": {},
   "outputs": [
    {
     "name": "stdout",
     "output_type": "stream",
     "text": [
      "Epoch 1/20\n",
      "46/46 [==============================] - 1s 4ms/step - loss: 18.7561 - accuracy: 0.4252\n",
      "Epoch 2/20\n",
      "46/46 [==============================] - 0s 4ms/step - loss: 5.8592 - accuracy: 0.4852\n",
      "Epoch 3/20\n",
      "46/46 [==============================] - 0s 4ms/step - loss: 4.2418 - accuracy: 0.5210\n",
      "Epoch 4/20\n",
      "46/46 [==============================] - 0s 4ms/step - loss: 3.4265 - accuracy: 0.5417\n",
      "Epoch 5/20\n",
      "46/46 [==============================] - 0s 4ms/step - loss: 3.4245 - accuracy: 0.5472\n",
      "Epoch 6/20\n",
      "46/46 [==============================] - 0s 4ms/step - loss: 3.0644 - accuracy: 0.5424\n",
      "Epoch 7/20\n",
      "46/46 [==============================] - 0s 4ms/step - loss: 2.9169 - accuracy: 0.5624\n",
      "Epoch 8/20\n",
      "46/46 [==============================] - 0s 4ms/step - loss: 2.6535 - accuracy: 0.5727\n",
      "Epoch 9/20\n",
      "46/46 [==============================] - 0s 4ms/step - loss: 2.5607 - accuracy: 0.5762\n",
      "Epoch 10/20\n",
      "46/46 [==============================] - 0s 4ms/step - loss: 2.7675 - accuracy: 0.5513\n",
      "Epoch 11/20\n",
      "46/46 [==============================] - 0s 5ms/step - loss: 2.4780 - accuracy: 0.6003\n",
      "Epoch 12/20\n",
      "46/46 [==============================] - 0s 5ms/step - loss: 2.5014 - accuracy: 0.6203\n",
      "Epoch 13/20\n",
      "46/46 [==============================] - 0s 4ms/step - loss: 2.3199 - accuracy: 0.6065\n",
      "Epoch 14/20\n",
      "46/46 [==============================] - 0s 4ms/step - loss: 2.2525 - accuracy: 0.6272\n",
      "Epoch 15/20\n",
      "46/46 [==============================] - 0s 4ms/step - loss: 2.1940 - accuracy: 0.6354\n",
      "Epoch 16/20\n",
      "46/46 [==============================] - 0s 4ms/step - loss: 2.2668 - accuracy: 0.6099\n",
      "Epoch 17/20\n",
      "46/46 [==============================] - 0s 5ms/step - loss: 2.2312 - accuracy: 0.6306\n",
      "Epoch 18/20\n",
      "46/46 [==============================] - 0s 4ms/step - loss: 2.4807 - accuracy: 0.6017\n",
      "Epoch 19/20\n",
      "46/46 [==============================] - 0s 4ms/step - loss: 2.8537 - accuracy: 0.5231\n",
      "Epoch 20/20\n",
      "46/46 [==============================] - 0s 3ms/step - loss: 2.8747 - accuracy: 0.5438\n"
     ]
    },
    {
     "data": {
      "text/plain": [
       "<keras.callbacks.History at 0x247fb9d7e50>"
      ]
     },
     "execution_count": 10,
     "metadata": {},
     "output_type": "execute_result"
    }
   ],
   "source": [
    "model.fit(X_train, y_train, epochs=20, batch_size=32)"
   ]
  },
  {
   "cell_type": "code",
   "execution_count": 11,
   "id": "ccd82dc3",
   "metadata": {},
   "outputs": [
    {
     "name": "stdout",
     "output_type": "stream",
     "text": [
      "12/12 [==============================] - 0s 3ms/step - loss: 1.5627 - accuracy: 0.8457\n"
     ]
    }
   ],
   "source": [
    "test_loss = model.evaluate(X_test, y_test)"
   ]
  },
  {
   "cell_type": "code",
   "execution_count": 13,
   "id": "8d2897aa",
   "metadata": {},
   "outputs": [
    {
     "name": "stdout",
     "output_type": "stream",
     "text": [
      "12/12 [==============================] - 0s 4ms/step\n"
     ]
    }
   ],
   "source": [
    "y_pred = model.predict(X_test)"
   ]
  },
  {
   "cell_type": "code",
   "execution_count": 14,
   "id": "c59890e5",
   "metadata": {},
   "outputs": [
    {
     "data": {
      "image/png": "[encoded data removed]",
      "text/plain": [
       "<Figure size 640x480 with 1 Axes>"
      ]
     },
     "metadata": {},
     "output_type": "display_data"
    }
   ],
   "source": [
    "plt.scatter(y_test, y_pred)\n",
    "plt.xlabel(\"True Values\")\n",
    "plt.ylabel(\"Predictions\")\n",
    "plt.show()"
   ]
  },
  {
   "cell_type": "code",
   "execution_count": 15,
   "id": "80f5e8f2",
   "metadata": {},
   "outputs": [
    {
     "name": "stdout",
     "output_type": "stream",
     "text": [
      "57/57 [==============================] - 0s 3ms/step\n"
     ]
    }
   ],
   "source": [
    "y_pred = model.predict(X)"
   ]
  },
  {
   "cell_type": "code",
   "execution_count": 16,
   "id": "70d00a34",
   "metadata": {},
   "outputs": [
    {
     "name": "stderr",
     "output_type": "stream",
     "text": [
      "C:\\Users\\didzis\\AppData\\Local\\Temp\\ipykernel_16868\\4223927865.py:1: SettingWithCopyWarning: \n",
      "A value is trying to be set on a copy of a slice from a DataFrame.\n",
      "Try using .loc[row_indexer,col_indexer] = value instead\n",
      "\n",
      "See the caveats in the documentation: https://pandas.pydata.org/pandas-docs/stable/user_guide/indexing.html#returning-a-view-versus-a-copy\n",
      "  df[\"snowcover_predicted\"]=y_pred\n"
     ]
    }
   ],
   "source": [
    "df[\"snowcover_predicted\"]=y_pred"
   ]
  },
  {
   "cell_type": "code",
   "execution_count": 17,
   "id": "b73e71dd",
   "metadata": {},
   "outputs": [
    {
     "name": "stderr",
     "output_type": "stream",
     "text": [
      "C:\\Users\\didzis\\AppData\\Local\\Temp\\ipykernel_16868\\4291089447.py:1: FutureWarning: Indexing a DataFrame with a datetimelike index using a single string to slice the rows, like `frame[string]`, is deprecated and will be removed in a future version. Use `frame.loc[string]` instead.\n",
      "  plt.plot(df[[\"vidējais sniega segas biezums, cm\",\"snowcover_predicted\"]][\"2017\"])\n"
     ]
    },
    {
     "data": {
      "text/plain": [
       "[<matplotlib.lines.Line2D at 0x247ee40d810>,\n",
       " <matplotlib.lines.Line2D at 0x2478006df90>]"
      ]
     },
     "execution_count": 17,
     "metadata": {},
     "output_type": "execute_result"
    },
    {
     "data": {
      "image/png": "[encoded data removed]",
      "text/plain": [
       "<Figure size 640x480 with 1 Axes>"
      ]
     },
     "metadata": {},
     "output_type": "display_data"
    }
   ],
   "source": [
    "plt.plot(df[[\"vidējais sniega segas biezums, cm\",\"snowcover_predicted\"]][\"2017\"])"
   ]
  },
  {
   "cell_type": "code",
   "execution_count": null,
   "id": "32fb91eb",
   "metadata": {},
   "outputs": [],
   "source": []
  }
 ],
 "metadata": {
  "kernelspec": {
   "display_name": "Python 3 (ipykernel)",
   "language": "python",
   "name": "python3"
  },
  "language_info": {
   "codemirror_mode": {
    "name": "ipython",
    "version": 3
   },
   "file_extension": ".py",
   "mimetype": "text/x-python",
   "name": "python",
   "nbconvert_exporter": "python",
   "pygments_lexer": "ipython3",
   "version": "3.10.9"
  }
 },
 "nbformat": 4,
 "nbformat_minor": 5
}
